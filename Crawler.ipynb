{
 "cells": [
  {
   "cell_type": "code",
   "execution_count": null,
   "id": "129c921b-1701-4958-bd53-a64dc2165ab3",
   "metadata": {
    "scrolled": true,
    "tags": []
   },
   "outputs": [],
   "source": [
    "from urllib.request import urlopen\n",
    "from bs4 import BeautifulSoup\n",
    "\n",
    "# 공통 URL(스팀 창작마당)\n",
    "url = 'https://steamcommunity.com/sharedfiles/filedetails/?id='\n",
    "\n",
    "# 스팀 창작마당 모음집 ID\n",
    "collection_id = input('Input Your Collection ID: ')\n",
    "print('=' * 20)\n",
    "\n",
    "# 스팀 창작마당 모음집 URL\n",
    "collection_url = url + collection_id\n",
    "\n",
    "# URL을 통해서 html 읽어오기\n",
    "with urlopen(collection_url) as response:\n",
    "    collection_html = response.read()\n",
    "\n",
    "# html 파서 사용하여 BeautifulSoup 객체로 만들기\n",
    "collection_soup = BeautifulSoup(collection_html, 'html.parser')\n",
    "\n",
    "# 모음집의 구독 목록 불러오기\n",
    "mod_lists = collection_soup.find_all('div', class_='collectionItem')\n",
    "\n",
    "# 정보를 저장할 딕셔너리 객체 생성\n",
    "mod_dict = {'id':[], 'map':[], 'mod':[]}\n",
    "\n",
    "# 모음집의 구독 목록에서 ID를 가져오기\n",
    "for i in range(len(mod_lists)):\n",
    "    mod_dict['id'].append(mod_lists[i].find('a').get('href').split('=')[1])\n",
    "\n",
    "# 가져온 ID를 사용해서 정보 긁어오기\n",
    "for id_num in mod_dict['id']:\n",
    "    # URL을 통해서 html 읽어오기\n",
    "    with urlopen(url + id_num) as response:\n",
    "        workshop_html = response.read()\n",
    "\n",
    "    workshop_soup = BeautifulSoup(workshop_html, 'html.parser')\n",
    "    workshop_plugin = workshop_soup.find_all('div', class_='workshopItemDescription')\n",
    "    workshop_info = workshop_plugin[0].prettify()[workshop_plugin[0].prettify().rfind('Workshop ID: '):]\n",
    "    \n",
    "    for strs in workshop_info.split('\\n'):        \n",
    "        if 'Workshop ID: ' in strs:\n",
    "            print('Workshop ID: ' + str(strs.lstrip().rstrip().split(': ')[1]))\n",
    "            \n",
    "         # Mod ID\n",
    "        elif 'Mod ID: ' in strs:\n",
    "            print(str(strs.lstrip().rstrip().split(': ')[1]))\n",
    "            mod_dict['mod'].append(str(strs.lstrip().rstrip().split(': ')[1]))\n",
    "            \n",
    "        # Map Folder\n",
    "        elif 'Map Folder: ' in strs:\n",
    "            print(str(strs.lstrip().rstrip().split(': ')[1]))\n",
    "            mod_dict['map'].append(str(strs.lstrip().rstrip().split(': ')[1]))\n",
    "            \n",
    "    print('=' * 20)"
   ]
  },
  {
   "cell_type": "code",
   "execution_count": null,
   "id": "9769e09f-ca55-49f7-a4ff-36fe6f25a321",
   "metadata": {},
   "outputs": [],
   "source": [
    "# 모드 총 갯수 출력\n",
    "print(len(mod_dict['id']))"
   ]
  },
  {
   "cell_type": "code",
   "execution_count": null,
   "id": "710eb352-f75c-44cc-a04f-0c04cdc6d631",
   "metadata": {
    "scrolled": true,
    "tags": []
   },
   "outputs": [],
   "source": [
    "# MOD ID 출력\n",
    "print('MOD_WORKSHOP_IDS='+ ';'.join(mod_dict['id']))"
   ]
  },
  {
   "cell_type": "code",
   "execution_count": null,
   "id": "351738cd-c4dc-4f7c-901b-fbec1e418805",
   "metadata": {
    "scrolled": true,
    "tags": []
   },
   "outputs": [],
   "source": [
    "# MAP NAME 출력\n",
    "# Muldraugh, KY는 마지막에 꼭 있어야합니다.\n",
    "print('MAP_NAMES='+ ';'.join(mod_dict['map']) + ';Muldraugh, KY')"
   ]
  },
  {
   "cell_type": "code",
   "execution_count": null,
   "id": "4c69657d-fac0-4b27-bcb2-df7c8122d974",
   "metadata": {
    "scrolled": true,
    "tags": []
   },
   "outputs": [],
   "source": [
    "# MOD NAME 출력\n",
    "print('MOD_NAMES='+ ';'.join(mod_dict['mod']))"
   ]
  },
  {
   "cell_type": "code",
   "execution_count": null,
   "id": "5e956aba-cf71-4ec8-bf84-12ef2f972897",
   "metadata": {},
   "outputs": [],
   "source": []
  }
 ],
 "metadata": {
  "kernelspec": {
   "display_name": "Python 3.8.13 ('venv': venv)",
   "language": "python",
   "name": "python3"
  },
  "language_info": {
   "codemirror_mode": {
    "name": "ipython",
    "version": 3
   },
   "file_extension": ".py",
   "mimetype": "text/x-python",
   "name": "python",
   "nbconvert_exporter": "python",
   "pygments_lexer": "ipython3",
   "version": "3.8.13"
  },
  "vscode": {
   "interpreter": {
    "hash": "6847a38ab996533cf9fbbba8f75f4fbbda59f045a8a4d556a988f10102b9601d"
   }
  }
 },
 "nbformat": 4,
 "nbformat_minor": 5
}
